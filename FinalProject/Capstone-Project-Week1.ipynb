{
 "cells": [
  {
   "cell_type": "markdown",
   "metadata": {},
   "source": [
    "# Capstone Project - The Battle of the Neighborhoods Week1"
   ]
  },
  {
   "cell_type": "markdown",
   "metadata": {},
   "source": [
    "<h1><center><i>New York Restaurant Data Project</i></center></h1>\n",
    " <img src=\"https://encrypted-tbn0.gstatic.com/images?q=tbn%3AANd9GcQnPzjRkhYvaXAP3eXKUrmGaw5xCKEWJYnWGS-JrVR_q1GmGcd1&usqp=CAU\" alt=\"Restaurant\" width=\"500\" height=\"600\"/> \n",
    "<h3><center><i>for</i></h3>\n",
    "    <h2><center><em>ABC Multicuisine Inc</em></center></h2>"
   ]
  },
  {
   "cell_type": "markdown",
   "metadata": {},
   "source": [
    "## Table of contents\n",
    "  \n",
    "1. [Introduction: Business Problem](#introduction)\n",
    "2. [Problem Background](#problembackground)\n",
    "3. [Problem Description](#problemdescription)\n",
    "4. [Target Audience / Stakeholders](#targetaudience)\n",
    "5. [Success / Exit Criteria](#success)\n",
    "6. [Dataset / Data Provider](#dataset)\n",
    "    1. [Zipcode Definition Data](#zipcode)\n",
    "    2. [Population Density by Boroughs Data](#density)\n",
    "    3. [Population By Zipcodes for all Boroughs](#population)\n",
    "    4. [Foursquare Venues Data By Restaurant Category](#foursquare)\n",
    "    5. [Known Assumptions](#assumptions)"
   ]
  },
  {
   "cell_type": "markdown",
   "metadata": {},
   "source": [
    "## Introduction: Business Problem <a name=\"introduction\"></a>\n",
    "### Introduction"
   ]
  },
  {
   "cell_type": "markdown",
   "metadata": {},
   "source": [
    "**ABC Multicuisine Inc** (hear after will be referred as the Company) is a successfully run food restaurant company that specialized in **Indian**, **Chinese**, **American** and **Italian** cuisine. The Company is interested in exploring a suitable opportunity to start a new restaurant in **New York** area by the end of Q3 of 2020. "
   ]
  },
  {
   "cell_type": "markdown",
   "metadata": {},
   "source": [
    "## Problem Background <a name=\"problembackground\"></a>"
   ]
  },
  {
   "cell_type": "markdown",
   "metadata": {},
   "source": [
    "The Company has been successfully running their restaurant business in Asia and Australia region and would like to enter the United States market by setting up their first restaurant in **New York** region and then expand further in other parts of New York and other cities in USA. As the company is a new entrant to this part of the world, they have engaged the data science team to research, study and come up with recommendation on which area in New York would be best suited to open their first restaurant specialzing in one among their core strength of **Indian**, **Chinese**, **American** and **Italian** cuisine.\n",
    "\n",
    "The **New York** city is the financial capitol of the USA with diversified population. Its one of the highest populated city in the USA with several industries ranging from Finance, Sofware, Retail, Consumer, Tourism and so on. The Company would like to make the decision by Q3 of 2020 and looks forward to the datascience team to do a through analysis and come up with the recommendation in terms of the best location and best cuisine for the new restaurant that can help them gain market share, establish their brand vaules in New York and help them achieve their best return on investment."
   ]
  },
  {
   "cell_type": "markdown",
   "metadata": {},
   "source": [
    "## Problem Description <a name=\"problemdescription\"></a>"
   ]
  },
  {
   "cell_type": "markdown",
   "metadata": {},
   "source": [
    "The City of New York serves variety of international cuisine food to their customers. As our company specializes and interested only in **Indian**, **Chinese**, **American** and **Italian**, we will be focusing only on these four kind of foods for our data analysis. The New York city is divided into five [Boroughs](https://en.wikipedia.org/wiki/Borough) namely: \n",
    "* Bronx\n",
    "* Brooklyn\n",
    "* Manhattan\n",
    "* Queens\n",
    "* Staten Island\n",
    "\n",
    "In order to compete with the existing players and gain market share for our Company and help them grow organically, as part of our data science project, We will be analyzing and taking into account the following areas with respect to each of the above mentioned Boroughs:\n",
    "\n",
    "* List of zip codes mapped to Boroughs\n",
    "* Land Area of Boroughs\n",
    "* Per Capita Income of People in Each Boroughs\n",
    "* Persons Per Square Miles\n",
    "* Total Population and Population of different Ethinic groups\n",
    "* Existing Players per cuisine in the market segment of each Boroughs\n",
    "* Compare Similarities and Dissimilarities between all five Boroughs\n",
    "\n",
    "In short, As this will be the first project of the Company in this part of the world, its very important that we come with the right recommendation in terms of the best location within the five Boroughs in New York and the best restaurant cuisine type within the four categoies the Company specializes in that helps them gain market share and get better return on investment."
   ]
  },
  {
   "cell_type": "markdown",
   "metadata": {},
   "source": [
    "## Target Audience / Stakeholders<a name=\"targetaudience\"></a>"
   ]
  },
  {
   "cell_type": "markdown",
   "metadata": {},
   "source": [
    "**ABC Multicuisine Inc** has chosen our datascience team understand, study and analyze their problem of finding the right location within New York to start their first restaurant in USA region. Our objective is to come with the best possible recommendation based on the available data and our research and submit the report to the Board of Directors, Business Head of USA region and their Executive Leadership team."
   ]
  },
  {
   "cell_type": "markdown",
   "metadata": {},
   "source": [
    "## Success / Exit Criteria<a name=\"success\"></a>"
   ]
  },
  {
   "cell_type": "markdown",
   "metadata": {},
   "source": [
    "The success criteria for the outcome of this data science project will be decided by the best location and the best category of cuisine recommendation provided by the team that caters the needs of the local population within that selected Borough and meets the demands of the Company's future customer segment. "
   ]
  },
  {
   "cell_type": "markdown",
   "metadata": {},
   "source": [
    "## Dataset / Data Provider<a name=\"dataset\"></a>"
   ]
  },
  {
   "cell_type": "markdown",
   "metadata": {},
   "source": [
    "The following Data sets will be utilized for this project:\n",
    "\n",
    "* [New York Neighborhood Data](https://data.beta.nyc/dataset/pediacities-nyc-neighborhoods/resource/7caac650-d082-4aea-9f9b-3681d568e8a5)\n",
    "* [Land Area / Population Denisty by Boroughs](https://en.wikipedia.org/wiki/Boroughs_of_New_York_City)\n",
    "* [Population By Zipcodes for all Boroughs](https://data.beta.nyc/dataset/pediacities-nyc-neighborhoods/resource/7caac650-d082-4aea-9f9b-3681d568e8a5)\n",
    "* [FourSquare Restaurant Categories Data](https://developer.foursquare.com/docs/api-reference/venues/categories/)"
   ]
  },
  {
   "cell_type": "markdown",
   "metadata": {},
   "source": [
    "### Zipcode Definition Data<a name=\"zipcode\"></a>"
   ]
  },
  {
   "cell_type": "markdown",
   "metadata": {},
   "source": [
    "The mapping of available New York zipcodes and their correspoding Boroughs can be obtained from: [here](https://www.health.ny.gov/statistics/cancer/registry/appendix/neighborhoods.htm)\n",
    "The New York city has been divided into five Boroughs namely: \n",
    "* Bronx\n",
    "* Brooklyn\n",
    "* Manhattan\n",
    "* Queens\n",
    "* Staten Island\n",
    "\n",
    "We will get all the zipcodes that are mapped to their corresponding Boroughs and Neighborhood along with their location coordinates of Latitudes and Longitudes."
   ]
  },
  {
   "cell_type": "code",
   "execution_count": 7,
   "metadata": {
    "collapsed": true,
    "jupyter": {
     "outputs_hidden": true
    }
   },
   "outputs": [
    {
     "name": "stdout",
     "output_type": "stream",
     "text": [
      "Requirement already satisfied: folium in /home/jupyterlab/conda/envs/python/lib/python3.6/site-packages (0.5.0)\n",
      "Requirement already satisfied: requests in /home/jupyterlab/conda/envs/python/lib/python3.6/site-packages (from folium) (2.23.0)\n",
      "Requirement already satisfied: six in /home/jupyterlab/conda/envs/python/lib/python3.6/site-packages (from folium) (1.14.0)\n",
      "Requirement already satisfied: branca in /home/jupyterlab/conda/envs/python/lib/python3.6/site-packages (from folium) (0.4.1)\n",
      "Requirement already satisfied: jinja2 in /home/jupyterlab/conda/envs/python/lib/python3.6/site-packages (from folium) (2.11.2)\n",
      "Requirement already satisfied: certifi>=2017.4.17 in /home/jupyterlab/conda/envs/python/lib/python3.6/site-packages (from requests->folium) (2020.4.5.1)\n",
      "Requirement already satisfied: chardet<4,>=3.0.2 in /home/jupyterlab/conda/envs/python/lib/python3.6/site-packages (from requests->folium) (3.0.4)\n",
      "Requirement already satisfied: urllib3!=1.25.0,!=1.25.1,<1.26,>=1.21.1 in /home/jupyterlab/conda/envs/python/lib/python3.6/site-packages (from requests->folium) (1.25.9)\n",
      "Requirement already satisfied: idna<3,>=2.5 in /home/jupyterlab/conda/envs/python/lib/python3.6/site-packages (from requests->folium) (2.9)\n",
      "Requirement already satisfied: MarkupSafe>=0.23 in /home/jupyterlab/conda/envs/python/lib/python3.6/site-packages (from jinja2->folium) (1.1.1)\n",
      "Requirement already satisfied: geopy in /home/jupyterlab/conda/envs/python/lib/python3.6/site-packages (1.22.0)\n",
      "Requirement already satisfied: geographiclib<2,>=1.49 in /home/jupyterlab/conda/envs/python/lib/python3.6/site-packages (from geopy) (1.50)\n",
      "Requirement already satisfied: bs4 in /home/jupyterlab/conda/envs/python/lib/python3.6/site-packages (0.0.1)\n",
      "Requirement already satisfied: beautifulsoup4 in /home/jupyterlab/conda/envs/python/lib/python3.6/site-packages (from bs4) (4.9.1)\n",
      "Requirement already satisfied: soupsieve>1.2 in /home/jupyterlab/conda/envs/python/lib/python3.6/site-packages (from beautifulsoup4->bs4) (2.0.1)\n"
     ]
    }
   ],
   "source": [
    "!pip install folium\n",
    "!pip install geopy\n",
    "!pip install bs4"
   ]
  },
  {
   "cell_type": "code",
   "execution_count": 8,
   "metadata": {},
   "outputs": [],
   "source": [
    "import pandas as pd\n",
    "import numpy as np\n",
    "import requests\n",
    "from bs4 import BeautifulSoup\n",
    "from sklearn.cluster import KMeans\n",
    "from geopy.geocoders import Nominatim \n",
    "import folium \n",
    "import seaborn as sns\n",
    "import matplotlib.cm as cm\n",
    "import matplotlib.colors as colors\n",
    "import matplotlib as mpl\n",
    "import matplotlib.pyplot as plt\n",
    "from itertools import cycle, islice\n",
    "from re import sub\n",
    "from config import credentials\n",
    "\n",
    "%matplotlib inline \n",
    "mpl.style.use(['ggplot'])"
   ]
  },
  {
   "cell_type": "markdown",
   "metadata": {},
   "source": [
    "#### Build New York Neighborhood dataframe from [New York Neighborhood Data](https://data.beta.nyc/dataset/pediacities-nyc-neighborhoods/resource/7caac650-d082-4aea-9f9b-3681d568e8a5)"
   ]
  },
  {
   "cell_type": "code",
   "execution_count": 9,
   "metadata": {},
   "outputs": [],
   "source": [
    "def get_coordinates_for_zipcode(zipcode):\n",
    "    address = 'New York, NY {}'.format(zipcode)\n",
    "    geolocator = Nominatim(user_agent=\"newyork_explorer\")\n",
    "    location = geolocator.geocode(address)\n",
    "    latitude = location.latitude\n",
    "    longitude = location.longitude\n",
    "    #print(\"10453: Latitude:{}, Longitude:{}\".format(latitude, longitude))\n",
    "    return (latitude, longitude)"
   ]
  },
  {
   "cell_type": "code",
   "execution_count": 10,
   "metadata": {},
   "outputs": [
    {
     "data": {
      "text/html": [
       "<div>\n",
       "<style scoped>\n",
       "    .dataframe tbody tr th:only-of-type {\n",
       "        vertical-align: middle;\n",
       "    }\n",
       "\n",
       "    .dataframe tbody tr th {\n",
       "        vertical-align: top;\n",
       "    }\n",
       "\n",
       "    .dataframe thead th {\n",
       "        text-align: right;\n",
       "    }\n",
       "</style>\n",
       "<table border=\"1\" class=\"dataframe\">\n",
       "  <thead>\n",
       "    <tr style=\"text-align: right;\">\n",
       "      <th></th>\n",
       "      <th>ZipCode</th>\n",
       "      <th>Borough</th>\n",
       "      <th>Neighborhood</th>\n",
       "      <th>Population</th>\n",
       "      <th>Density</th>\n",
       "      <th>Latitude</th>\n",
       "      <th>Longitude</th>\n",
       "    </tr>\n",
       "  </thead>\n",
       "  <tbody>\n",
       "    <tr>\n",
       "      <th>0</th>\n",
       "      <td>10001</td>\n",
       "      <td>Manhattan</td>\n",
       "      <td>Chelsea and Clinton</td>\n",
       "      <td>21102</td>\n",
       "      <td>33959</td>\n",
       "      <td>40.741236</td>\n",
       "      <td>-73.356691</td>\n",
       "    </tr>\n",
       "    <tr>\n",
       "      <th>1</th>\n",
       "      <td>10002</td>\n",
       "      <td>Manhattan</td>\n",
       "      <td>Lower East Side</td>\n",
       "      <td>81410</td>\n",
       "      <td>92573</td>\n",
       "      <td>40.712728</td>\n",
       "      <td>-74.006015</td>\n",
       "    </tr>\n",
       "    <tr>\n",
       "      <th>2</th>\n",
       "      <td>10003</td>\n",
       "      <td>Manhattan</td>\n",
       "      <td>Lower East Side</td>\n",
       "      <td>56024</td>\n",
       "      <td>97188</td>\n",
       "      <td>40.712728</td>\n",
       "      <td>-74.006015</td>\n",
       "    </tr>\n",
       "    <tr>\n",
       "      <th>3</th>\n",
       "      <td>10004</td>\n",
       "      <td>Manhattan</td>\n",
       "      <td>Lower Manhattan</td>\n",
       "      <td>3089</td>\n",
       "      <td>5519</td>\n",
       "      <td>40.712728</td>\n",
       "      <td>-74.006015</td>\n",
       "    </tr>\n",
       "    <tr>\n",
       "      <th>4</th>\n",
       "      <td>10005</td>\n",
       "      <td>Manhattan</td>\n",
       "      <td>Lower Manhattan</td>\n",
       "      <td>7135</td>\n",
       "      <td>97048</td>\n",
       "      <td>40.712728</td>\n",
       "      <td>-74.006015</td>\n",
       "    </tr>\n",
       "  </tbody>\n",
       "</table>\n",
       "</div>"
      ],
      "text/plain": [
       "   ZipCode    Borough         Neighborhood  Population  Density   Latitude  \\\n",
       "0    10001  Manhattan  Chelsea and Clinton       21102    33959  40.741236   \n",
       "1    10002  Manhattan      Lower East Side       81410    92573  40.712728   \n",
       "2    10003  Manhattan      Lower East Side       56024    97188  40.712728   \n",
       "3    10004  Manhattan      Lower Manhattan        3089     5519  40.712728   \n",
       "4    10005  Manhattan      Lower Manhattan        7135    97048  40.712728   \n",
       "\n",
       "   Longitude  \n",
       "0 -73.356691  \n",
       "1 -74.006015  \n",
       "2 -74.006015  \n",
       "3 -74.006015  \n",
       "4 -74.006015  "
      ]
     },
     "execution_count": 10,
     "metadata": {},
     "output_type": "execute_result"
    }
   ],
   "source": [
    "new_df = pd.read_csv(\"nyc_zip_borough_neighborhoods_pop.csv\")\n",
    "new_df['Borough'] = new_df['Borough'].astype(str)\n",
    "new_df['Neighborhood'] = new_df['Neighborhood'].astype(str)\n",
    "new_df[['Latitude', 'Longitude']] = new_df.apply(lambda row: get_coordinates_for_zipcode(row.ZipCode), axis=1).apply(pd.Series)\n",
    "new_df.head()"
   ]
  },
  {
   "cell_type": "markdown",
   "metadata": {},
   "source": [
    "### Land Area / Population Denisty by Boroughs<a name=\"density\"></a>"
   ]
  },
  {
   "cell_type": "markdown",
   "metadata": {},
   "source": [
    "The following key data for each Boroughs can be obtained from [here](https://en.wikipedia.org/wiki/Boroughs_of_New_York_City)\n",
    "* Per Capita Income \n",
    "* Land Area\n",
    "* People Living Per Square Miles \n",
    "\n",
    "[Per Capita Income](https://en.wikipedia.org/wiki/Per_capita_income) data measures the **average income earned per person** in a given area. It is calculated by dividing the area's total income by its total population. [Population density](https://en.wikipedia.org/wiki/Population_density) is a measurement of population per unit area, or exceptionally unit volume; it is a quantity of type number density."
   ]
  },
  {
   "cell_type": "code",
   "execution_count": 11,
   "metadata": {},
   "outputs": [
    {
     "data": {
      "text/html": [
       "<div>\n",
       "<style scoped>\n",
       "    .dataframe tbody tr th:only-of-type {\n",
       "        vertical-align: middle;\n",
       "    }\n",
       "\n",
       "    .dataframe tbody tr th {\n",
       "        vertical-align: top;\n",
       "    }\n",
       "\n",
       "    .dataframe thead th {\n",
       "        text-align: right;\n",
       "    }\n",
       "</style>\n",
       "<table border=\"1\" class=\"dataframe\">\n",
       "  <thead>\n",
       "    <tr style=\"text-align: right;\">\n",
       "      <th></th>\n",
       "      <th>Borough</th>\n",
       "      <th>PerCapitaIncome</th>\n",
       "      <th>LandArea</th>\n",
       "      <th>PersonsPerSqM</th>\n",
       "    </tr>\n",
       "  </thead>\n",
       "  <tbody>\n",
       "    <tr>\n",
       "      <th>0</th>\n",
       "      <td>Bronx</td>\n",
       "      <td>30100</td>\n",
       "      <td>42.10</td>\n",
       "      <td>33867</td>\n",
       "    </tr>\n",
       "    <tr>\n",
       "      <th>1</th>\n",
       "      <td>Brooklyn</td>\n",
       "      <td>35800</td>\n",
       "      <td>70.82</td>\n",
       "      <td>36147</td>\n",
       "    </tr>\n",
       "    <tr>\n",
       "      <th>2</th>\n",
       "      <td>Manhattan</td>\n",
       "      <td>368500</td>\n",
       "      <td>22.83</td>\n",
       "      <td>71341</td>\n",
       "    </tr>\n",
       "    <tr>\n",
       "      <th>3</th>\n",
       "      <td>Queens</td>\n",
       "      <td>41400</td>\n",
       "      <td>108.53</td>\n",
       "      <td>20767</td>\n",
       "    </tr>\n",
       "    <tr>\n",
       "      <th>4</th>\n",
       "      <td>Staten Island</td>\n",
       "      <td>30500</td>\n",
       "      <td>58.37</td>\n",
       "      <td>8157</td>\n",
       "    </tr>\n",
       "  </tbody>\n",
       "</table>\n",
       "</div>"
      ],
      "text/plain": [
       "         Borough  PerCapitaIncome  LandArea  PersonsPerSqM\n",
       "0          Bronx            30100     42.10          33867\n",
       "1       Brooklyn            35800     70.82          36147\n",
       "2      Manhattan           368500     22.83          71341\n",
       "3         Queens            41400    108.53          20767\n",
       "4  Staten Island            30500     58.37           8157"
      ]
     },
     "execution_count": 11,
     "metadata": {},
     "output_type": "execute_result"
    }
   ],
   "source": [
    "url = 'https://en.wikipedia.org/wiki/Boroughs_of_New_York_City'\n",
    "source = requests.get(url).text\n",
    "soup = BeautifulSoup(source, 'html')\n",
    "table=soup.find('table')\n",
    "\n",
    "column_names=['Borough', 'PerCapitaIncome', 'LandArea', 'PersonsPerSqM']\n",
    "borough_df = pd.DataFrame(columns=column_names)\n",
    "\n",
    "for tr in table.find_all('tr'):\n",
    "    row_data=[]\n",
    "    for td in tr.find_all('td'):\n",
    "        row_data.append(td.text.strip())\n",
    "        if len(row_data) == 9:\n",
    "            #print(row_data)\n",
    "            borough_df.loc[len(borough_df)] = [row_data[0], \n",
    "                                               int(sub(r'[^\\d.]', '', row_data[4])), \n",
    "                                               float(sub(r'[^\\d.]', '', row_data[5])), \n",
    "                                               int(sub(r'[^\\d.]', '', row_data[7]))]\n",
    "\n",
    "borough_df.loc[borough_df['Borough'] == 'The Bronx', 'Borough'] = 'Bronx'\n",
    "borough_df['PerCapitaIncome'] = borough_df['PerCapitaIncome'].astype(int)\n",
    "borough_df['PersonsPerSqM'] = borough_df['PersonsPerSqM'].astype(int)\n",
    "borough_df"
   ]
  },
  {
   "cell_type": "markdown",
   "metadata": {},
   "source": [
    "### Population data By Zipcodes for All Boroughs<a name=\"population\"></a>"
   ]
  },
  {
   "cell_type": "markdown",
   "metadata": {},
   "source": [
    "We will collect the following category of data from [here](https://data.beta.nyc/dataset/pediacities-nyc-neighborhoods/resource/7caac650-d082-4aea-9f9b-3681d568e8a5)\n",
    "* Population  (Number of people living in a given zip code area)\n",
    "* Density (Number of people living per square mile in a given zip code area)\n",
    "\n",
    "Population and density will provide as a clear picture of how densely each zip code areas are populated."
   ]
  },
  {
   "cell_type": "markdown",
   "metadata": {},
   "source": [
    "### Foursquare Venues Data By Restaurant Category<a name=\"foursquare\"></a>"
   ]
  },
  {
   "cell_type": "markdown",
   "metadata": {},
   "source": [
    "[Forsquare.com](https://foursquare.com/) provides access to firmographic data and rich community-sourced content for more than 60 million commercial places around the world—via flat file or API. We will be useing their [Places API](https://developer.foursquare.com/docs/build-with-foursquare/categories/) that provides location data with the list of restaurant venues for a given restaurant category and Borough in [JSON](https://en.wikipedia.org/wiki/JSON) format. Since, ABC Multicusine Inc specializes only in certain kind of cusines, We be collecting the restaurant data for the following four categories of restaurants:\n",
    "* **American**\n",
    "* **Italian**\n",
    "* **Chinese**\n",
    "* **Indian**"
   ]
  },
  {
   "cell_type": "code",
   "execution_count": 12,
   "metadata": {},
   "outputs": [
    {
     "name": "stdout",
     "output_type": "stream",
     "text": [
      "shape: (491, 7)\n"
     ]
    },
    {
     "data": {
      "text/html": [
       "<div>\n",
       "<style scoped>\n",
       "    .dataframe tbody tr th:only-of-type {\n",
       "        vertical-align: middle;\n",
       "    }\n",
       "\n",
       "    .dataframe tbody tr th {\n",
       "        vertical-align: top;\n",
       "    }\n",
       "\n",
       "    .dataframe thead th {\n",
       "        text-align: right;\n",
       "    }\n",
       "</style>\n",
       "<table border=\"1\" class=\"dataframe\">\n",
       "  <thead>\n",
       "    <tr style=\"text-align: right;\">\n",
       "      <th></th>\n",
       "      <th>ZipCode</th>\n",
       "      <th>Borough</th>\n",
       "      <th>Neighborhood</th>\n",
       "      <th>Latitude</th>\n",
       "      <th>Longitude</th>\n",
       "      <th>Name</th>\n",
       "      <th>Category</th>\n",
       "    </tr>\n",
       "  </thead>\n",
       "  <tbody>\n",
       "    <tr>\n",
       "      <th>0</th>\n",
       "      <td>10009</td>\n",
       "      <td>Manhattan</td>\n",
       "      <td>Chelsea and Clinton</td>\n",
       "      <td>40.727510</td>\n",
       "      <td>-73.979324</td>\n",
       "      <td>Khiladi NYC</td>\n",
       "      <td>Indian</td>\n",
       "    </tr>\n",
       "    <tr>\n",
       "      <th>1</th>\n",
       "      <td>10024</td>\n",
       "      <td>Manhattan</td>\n",
       "      <td>Chelsea and Clinton</td>\n",
       "      <td>40.786166</td>\n",
       "      <td>-73.976414</td>\n",
       "      <td>Alachi Masala</td>\n",
       "      <td>Indian</td>\n",
       "    </tr>\n",
       "    <tr>\n",
       "      <th>2</th>\n",
       "      <td>10022</td>\n",
       "      <td>Manhattan</td>\n",
       "      <td>Chelsea and Clinton</td>\n",
       "      <td>40.755620</td>\n",
       "      <td>-73.968666</td>\n",
       "      <td>Amma</td>\n",
       "      <td>Indian</td>\n",
       "    </tr>\n",
       "    <tr>\n",
       "      <th>3</th>\n",
       "      <td>10009</td>\n",
       "      <td>Manhattan</td>\n",
       "      <td>Chelsea and Clinton</td>\n",
       "      <td>40.727285</td>\n",
       "      <td>-73.979602</td>\n",
       "      <td>Desi Galli - Avenue B</td>\n",
       "      <td>Indian</td>\n",
       "    </tr>\n",
       "    <tr>\n",
       "      <th>4</th>\n",
       "      <td>10016</td>\n",
       "      <td>Manhattan</td>\n",
       "      <td>Chelsea and Clinton</td>\n",
       "      <td>40.741393</td>\n",
       "      <td>-73.983367</td>\n",
       "      <td>Saravanaa Bhavan</td>\n",
       "      <td>Indian</td>\n",
       "    </tr>\n",
       "  </tbody>\n",
       "</table>\n",
       "</div>"
      ],
      "text/plain": [
       "   ZipCode    Borough         Neighborhood   Latitude  Longitude  \\\n",
       "0    10009  Manhattan  Chelsea and Clinton  40.727510 -73.979324   \n",
       "1    10024  Manhattan  Chelsea and Clinton  40.786166 -73.976414   \n",
       "2    10022  Manhattan  Chelsea and Clinton  40.755620 -73.968666   \n",
       "3    10009  Manhattan  Chelsea and Clinton  40.727285 -73.979602   \n",
       "4    10016  Manhattan  Chelsea and Clinton  40.741393 -73.983367   \n",
       "\n",
       "                    Name Category  \n",
       "0            Khiladi NYC   Indian  \n",
       "1          Alachi Masala   Indian  \n",
       "2                   Amma   Indian  \n",
       "3  Desi Galli - Avenue B   Indian  \n",
       "4       Saravanaa Bhavan   Indian  "
      ]
     },
     "execution_count": 12,
     "metadata": {},
     "output_type": "execute_result"
    }
   ],
   "source": [
    "restaurant_categories = {\n",
    "    \"Indian\": \"4bf58dd8d48988d10f941735\",\n",
    "    \"Chinese\": \"4bf58dd8d48988d145941735\",\n",
    "    \"Italian\": \"4bf58dd8d48988d110941735\",\n",
    "    \"American\": \"4bf58dd8d48988d14e941735\"\n",
    "}\n",
    "\n",
    "def get_restaurants_by_category_id(category_id, neighborhood, version='20190425'):\n",
    "    restaurants_list = []\n",
    "    url = \"https://api.foursquare.com/v2/venues/search?client_id={}&client_secret={}&v={}&intent=browse&near={}, NY\" \\\n",
    "    \"&categoryId={}\".format(credentials[\"CLIENT_ID\"], credentials[\"CLIENT_SECRET\"], version, borough, category_id)\n",
    "    venues = None\n",
    "    response = requests.request(\"GET\", url, headers={}, data={})\n",
    "    response = response.json()\n",
    "    if response[\"meta\"][\"code\"] == 200:\n",
    "        venues = response[\"response\"][\"venues\"]\n",
    "    else:\n",
    "        print(\"neighborhood: return code:\", response[\"meta\"][\"code\"])\n",
    "        venues = None\n",
    "    return venues\n",
    "\n",
    "# Create an Empty Data Frame\n",
    "restaurant_columns =['ZipCode', 'Borough', 'Neighborhood', 'Latitude', 'Longitude', 'Name', 'Category']\n",
    "restaurants_df = pd.DataFrame(columns=restaurant_columns)\n",
    "\n",
    "# Get the restaurant details for each of the category and Neighborhood: Indian, Chinese, American and Italian\n",
    "for category in restaurant_categories:\n",
    "    for neighborhood in new_df['Neighborhood'].unique():\n",
    "        borough = np.array_str(new_df.loc[new_df['Neighborhood'] == neighborhood, 'Borough'].unique())[1:-1]\n",
    "        borough = borough[1:-1]\n",
    "        venues = get_restaurants_by_category_id(restaurant_categories[category], neighborhood)\n",
    "            \n",
    "        if venues is not None:\n",
    "            for venue in venues:\n",
    "                if \"postalCode\" in venue[\"location\"]:\n",
    "                    postal_code = venue['location']['postalCode']\n",
    "                else:\n",
    "                     postal_code = new_df.loc[new_df['Neighborhood'] == neighborhood, 'ZipCode'].unique()[0]\n",
    "                restaurants_df.loc[len(restaurants_df)] = [postal_code, borough, neighborhood, venue['location']['lat'],venue['location']['lng'], \n",
    "                                                           venue['name'], venue['categories'][0]['shortName']]\n",
    "\n",
    "\n",
    "# Data Cleaning\n",
    "restaurants_df.replace(to_replace=['South Indian', 'Deli / Bodega', 'Chaat'], value='Indian', inplace=True)\n",
    "restaurants_df.replace(to_replace=['Dim Sum', 'Cantonese', 'Shanghai', 'Taiwanese', 'Asian'], value='Chinese', inplace=True)\n",
    "restaurants_df.replace(to_replace=['New American', 'Beer Garden', 'Cocktail', 'Burgers', 'Bar', 'Sandwiches','Wine Bar','Diner'], \n",
    "                       value='American', inplace=True)\n",
    "restaurants_df.replace(to_replace=['Gourmet', 'Pizza', 'Seafood'], value='Italian', inplace=True)\n",
    "restaurants_df.replace(to_replace=['New American', 'Beer Garden', 'Cocktail', 'Burgers', 'Bar', 'Sandwiches','Wine Bar','Diner'], \n",
    "                       value='American', inplace=True)\n",
    "\n",
    "restaurants_df.replace(to_replace=['Bagels', 'New American', 'Wine Bar', 'Beer Garden'], value='American', inplace=True)\n",
    "\n",
    "\n",
    "drop_indexes = restaurants_df[(restaurants_df.Category != 'Indian') & (restaurants_df.Category != 'Chinese') & \n",
    "                              (restaurants_df.Category != 'American') & (restaurants_df.Category != 'Italian')].index\n",
    "restaurants_df.drop(drop_indexes, inplace=True)\n",
    "restaurants_df['ZipCode'] = restaurants_df['ZipCode'].astype(int)\n",
    "\n",
    "\n",
    "restaurants_df.drop_duplicates(subset='Name', inplace=True)\n",
    "restaurants_df.to_csv(\"restaurants_data.csv\", index=False)\n",
    "print('shape:', restaurants_df.shape)\n",
    "restaurants_df.head()"
   ]
  },
  {
   "cell_type": "code",
   "execution_count": 13,
   "metadata": {},
   "outputs": [
    {
     "data": {
      "text/html": [
       "<div>\n",
       "<style scoped>\n",
       "    .dataframe tbody tr th:only-of-type {\n",
       "        vertical-align: middle;\n",
       "    }\n",
       "\n",
       "    .dataframe tbody tr th {\n",
       "        vertical-align: top;\n",
       "    }\n",
       "\n",
       "    .dataframe thead th {\n",
       "        text-align: right;\n",
       "    }\n",
       "</style>\n",
       "<table border=\"1\" class=\"dataframe\">\n",
       "  <thead>\n",
       "    <tr style=\"text-align: right;\">\n",
       "      <th></th>\n",
       "      <th>ZipCode</th>\n",
       "      <th>Borough</th>\n",
       "      <th>Neighborhood</th>\n",
       "      <th>Latitude</th>\n",
       "      <th>Longitude</th>\n",
       "      <th>Name</th>\n",
       "      <th>Category</th>\n",
       "    </tr>\n",
       "  </thead>\n",
       "  <tbody>\n",
       "    <tr>\n",
       "      <th>4776</th>\n",
       "      <td>11238</td>\n",
       "      <td>Brooklyn</td>\n",
       "      <td>Northwest Brooklyn</td>\n",
       "      <td>40.681505</td>\n",
       "      <td>-73.955770</td>\n",
       "      <td>Golda</td>\n",
       "      <td>American</td>\n",
       "    </tr>\n",
       "    <tr>\n",
       "      <th>4777</th>\n",
       "      <td>11211</td>\n",
       "      <td>Brooklyn</td>\n",
       "      <td>Northwest Brooklyn</td>\n",
       "      <td>40.710783</td>\n",
       "      <td>-73.953704</td>\n",
       "      <td>Lighthouse</td>\n",
       "      <td>American</td>\n",
       "    </tr>\n",
       "    <tr>\n",
       "      <th>4778</th>\n",
       "      <td>11238</td>\n",
       "      <td>Brooklyn</td>\n",
       "      <td>Northwest Brooklyn</td>\n",
       "      <td>40.682846</td>\n",
       "      <td>-73.963835</td>\n",
       "      <td>Otway</td>\n",
       "      <td>American</td>\n",
       "    </tr>\n",
       "    <tr>\n",
       "      <th>4779</th>\n",
       "      <td>11222</td>\n",
       "      <td>Brooklyn</td>\n",
       "      <td>Northwest Brooklyn</td>\n",
       "      <td>40.733427</td>\n",
       "      <td>-73.958201</td>\n",
       "      <td>Alameda</td>\n",
       "      <td>American</td>\n",
       "    </tr>\n",
       "    <tr>\n",
       "      <th>4780</th>\n",
       "      <td>11238</td>\n",
       "      <td>Brooklyn</td>\n",
       "      <td>Northwest Brooklyn</td>\n",
       "      <td>40.681470</td>\n",
       "      <td>-73.955800</td>\n",
       "      <td>Hart's</td>\n",
       "      <td>American</td>\n",
       "    </tr>\n",
       "  </tbody>\n",
       "</table>\n",
       "</div>"
      ],
      "text/plain": [
       "      ZipCode   Borough        Neighborhood   Latitude  Longitude        Name  \\\n",
       "4776    11238  Brooklyn  Northwest Brooklyn  40.681505 -73.955770       Golda   \n",
       "4777    11211  Brooklyn  Northwest Brooklyn  40.710783 -73.953704  Lighthouse   \n",
       "4778    11238  Brooklyn  Northwest Brooklyn  40.682846 -73.963835       Otway   \n",
       "4779    11222  Brooklyn  Northwest Brooklyn  40.733427 -73.958201     Alameda   \n",
       "4780    11238  Brooklyn  Northwest Brooklyn  40.681470 -73.955800      Hart's   \n",
       "\n",
       "      Category  \n",
       "4776  American  \n",
       "4777  American  \n",
       "4778  American  \n",
       "4779  American  \n",
       "4780  American  "
      ]
     },
     "execution_count": 13,
     "metadata": {},
     "output_type": "execute_result"
    }
   ],
   "source": [
    "restaurants_df.tail()"
   ]
  },
  {
   "cell_type": "markdown",
   "metadata": {},
   "source": [
    "#### Known assumptions<a name=\"assumptions\">\n",
    "This project is done with the known api rate limiting imposed by foursquare. "
   ]
  }
 ],
 "metadata": {
  "kernelspec": {
   "display_name": "Python",
   "language": "python",
   "name": "conda-env-python-py"
  },
  "language_info": {
   "codemirror_mode": {
    "name": "ipython",
    "version": 3
   },
   "file_extension": ".py",
   "mimetype": "text/x-python",
   "name": "python",
   "nbconvert_exporter": "python",
   "pygments_lexer": "ipython3",
   "version": "3.6.10"
  }
 },
 "nbformat": 4,
 "nbformat_minor": 4
}
